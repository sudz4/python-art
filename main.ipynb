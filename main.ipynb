{
 "cells": [
  {
   "cell_type": "code",
   "execution_count": 100,
   "metadata": {},
   "outputs": [],
   "source": [
    "import requests\n",
    "import os\n",
    "import openai\n",
    "import json"
   ]
  },
  {
   "cell_type": "code",
   "execution_count": 101,
   "metadata": {},
   "outputs": [],
   "source": [
    "# Read in passwords file\n",
    "from config import APIKEY_OPENAI\n",
    "\n",
    "# Set API KEY\n",
    "openai.api_key = APIKEY_OPENAI"
   ]
  },
  {
   "cell_type": "code",
   "execution_count": 102,
   "metadata": {},
   "outputs": [
    {
     "data": {
      "text/plain": [
       "['Write a story about a man living in the mountains that has been alive for 500 years.']"
      ]
     },
     "execution_count": 102,
     "metadata": {},
     "output_type": "execute_result"
    }
   ],
   "source": [
    "# Read in the prompt from a text file\n",
    "with open('prompt.txt') as f:\n",
    "    prompt = f.readlines()\n",
    "    \n",
    "prompt"
   ]
  },
  {
   "cell_type": "code",
   "execution_count": null,
   "metadata": {},
   "outputs": [],
   "source": [
    "# Send prompt to openai api and output raw JSON response\n",
    "response = openai.Completion.create(\n",
    "    model='text-davinci-002',\n",
    "    prompt=prompt,\n",
    "    temperature=1.0,\n",
    "    max_tokens=500,\n",
    "    top_p=1,\n",
    "    frequency_penalty=0,\n",
    "    presence_penalty=0   \n",
    ")\n",
    "\n",
    "response"
   ]
  },
  {
   "cell_type": "code",
   "execution_count": null,
   "metadata": {},
   "outputs": [
    {
     "data": {
      "text/plain": [
       "'There was a man who lived in the mountains who was said to be 500 years old. No one knew for sure because he never told anyone his age. He was a hermit who lived in a small cabin in the woods and only came out to get food and supplies every few weeks. He was a very kind man and would often help people who got lost in the woods. He knew every plant and animal in the area, and was said to be able to communicate with them. Some people even said he had magical powers. He was always happy to help anyone who needed it and was a very wise man.'"
      ]
     },
     "execution_count": 63,
     "metadata": {},
     "output_type": "execute_result"
    }
   ],
   "source": [
    "# Parse the output - IMPORTANT the raw response output looks like json but is an OPENAIObject\n",
    "text = response['choices'][0]['text'].strip()\n",
    "\n",
    "text"
   ]
  },
  {
   "cell_type": "code",
   "execution_count": null,
   "metadata": {},
   "outputs": [
    {
     "name": "stdout",
     "output_type": "stream",
     "text": [
      "['Write a story about a man living in the mountains that has been alive for 500 years.']\n",
      "There was a man who lived in the mountains who was said to be 500 years old. No one knew for sure because he never told anyone his age. He was a hermit who lived in a small cabin in the woods and only came out to get food and supplies every few weeks. He was a very kind man and would often help people who got lost in the woods. He knew every plant and animal in the area, and was said to be able to communicate with them. Some people even said he had magical powers. He was always happy to help anyone who needed it and was a very wise man.\n"
     ]
    }
   ],
   "source": [
    "# For completeness print the prompt and the text\n",
    "print(prompt)\n",
    "print(text)"
   ]
  },
  {
   "cell_type": "code",
   "execution_count": null,
   "metadata": {},
   "outputs": [],
   "source": [
    "\"\"\"Save the prompt output to new file\"\"\"\n",
    "\n",
    "# Open file\n",
    "f = open('prompt_output.txt', 'w')\n",
    "\n",
    "# Write to file\n",
    "f.write(text)\n",
    "\n",
    "# Close file (also saves the file)\n",
    "f.close()"
   ]
  },
  {
   "cell_type": "code",
   "execution_count": null,
   "metadata": {},
   "outputs": [],
   "source": [
    "prompt_image = open_file()"
   ]
  },
  {
   "cell_type": "code",
   "execution_count": null,
   "metadata": {},
   "outputs": [
    {
     "data": {
      "text/plain": [
       "\"['There was a man who lived in the mountains who was said to be 500 years old. No one knew for sure because he never told anyone his age. He was a hermit who lived in a small cabin in the woods and only came out to get food and supplies every few weeks. He was a very kind man and would often help people who got lost in the woods. He knew every plant and animal in the area, and was said to be able to communicate with them. Some people even said he had magical powers. He was always happy to help anyone who needed it and was a very wise man.']\""
      ]
     },
     "execution_count": 84,
     "metadata": {},
     "output_type": "execute_result"
    }
   ],
   "source": [
    "with open('prompt_output.txt') as po:\n",
    "    prompt_output = po.readlines()\n",
    "    \n",
    "prompt_output = str(prompt_output)\n",
    "\n",
    "# Close file\n",
    "po.close()\n",
    "\n",
    "# Print output\n",
    "prompt_output"
   ]
  },
  {
   "cell_type": "code",
   "execution_count": null,
   "metadata": {},
   "outputs": [
    {
     "data": {
      "text/plain": [
       "<OpenAIObject at 0x118b8b510> JSON: {\n",
       "  \"created\": 1669993961,\n",
       "  \"data\": [\n",
       "    {\n",
       "      \"url\": \"https://oaidalleapiprodscus.blob.core.windows.net/private/org-2ZvNGu7LiCW5jNxbo8ZUlCUl/user-OxcO4jl4uxbRhkxFd9i1QHIW/img-eAxPNG4ieBL3hzacOXX8K1dB.png?st=2022-12-02T14%3A12%3A41Z&se=2022-12-02T16%3A12%3A41Z&sp=r&sv=2021-08-06&sr=b&rscd=inline&rsct=image/png&skoid=6aaadede-4fb3-4698-a8f6-684d7786b067&sktid=a48cca56-e6da-484e-a814-9c849652bcb3&skt=2022-12-02T05%3A36%3A14Z&ske=2022-12-03T05%3A36%3A14Z&sks=b&skv=2021-08-06&sig=iBc5p7bjAXRCtLI6wmBOSvXua/vGQpzbKPexiau/Y%2Bg%3D\"\n",
       "    }\n",
       "  ]\n",
       "}"
      ]
     },
     "execution_count": 80,
     "metadata": {},
     "output_type": "execute_result"
    }
   ],
   "source": [
    "response_image = openai.Image.create(\n",
    "    prompt = prompt_output,\n",
    "    n=1,\n",
    "    size='512x512' \n",
    ")\n",
    "\n",
    "response_image"
   ]
  },
  {
   "cell_type": "code",
   "execution_count": null,
   "metadata": {},
   "outputs": [
    {
     "data": {
      "text/plain": [
       "787387"
      ]
     },
     "execution_count": 83,
     "metadata": {},
     "output_type": "execute_result"
    }
   ],
   "source": [
    "response_image = openai.Image.create(\n",
    "    prompt = prompt_output,\n",
    "    n=1,\n",
    "    size='512x512' \n",
    ")\n",
    "\n",
    "image_url = response_image['data'][0]['url']\n",
    "\n",
    "URL = image_url\n",
    "url_response  = requests.get(URL)\n",
    "\n",
    "# Save image as\n",
    "image_filename = input('Enter file name: ')\n",
    "\n",
    "# Write to image file\n",
    "open(image_filename, 'wb').write(url_response.content)"
   ]
  }
 ],
 "metadata": {
  "kernelspec": {
   "display_name": "Python 3.10.2 ('ART_venv': venv)",
   "language": "python",
   "name": "python3"
  },
  "language_info": {
   "codemirror_mode": {
    "name": "ipython",
    "version": 3
   },
   "file_extension": ".py",
   "mimetype": "text/x-python",
   "name": "python",
   "nbconvert_exporter": "python",
   "pygments_lexer": "ipython3",
   "version": "3.10.2"
  },
  "orig_nbformat": 4,
  "vscode": {
   "interpreter": {
    "hash": "67f15b46d18dd9fd4a42f4cd06f798e0f86008d6e239007f6a8da86829a499f6"
   }
  }
 },
 "nbformat": 4,
 "nbformat_minor": 2
}
